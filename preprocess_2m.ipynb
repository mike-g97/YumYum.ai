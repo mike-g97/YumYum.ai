{
 "cells": [
  {
   "cell_type": "code",
   "execution_count": null,
   "metadata": {},
   "outputs": [],
   "source": [
    "import pandas as pd \n",
    "import os"
   ]
  },
  {
   "cell_type": "code",
   "execution_count": null,
   "metadata": {},
   "outputs": [],
   "source": [
    "\"\"\"split large datasets into smaller csv files\n",
    "\"\"\"\n",
    "\n",
    "# Parameters\n",
    "input_csv = 'recipes_data.csv'  # Replace with the actual filename of your large CSV file\n",
    "chunk_size = 100000  # Number of rows to read in each chunk\n",
    "output_prefix = 'input_'  # Prefix for the output CSV filenames\n",
    "\n",
    "# Initialize variables\n",
    "chunk_number = 0\n",
    "\n",
    "# Read the CSV file in chunks\n",
    "for chunk in pd.read_csv(input_csv, chunksize=chunk_size):\n",
    "    # Process the chunk as needed\n",
    "    # ...\n",
    "    \n",
    "    # Save the chunk to a new CSV file\n",
    "    output_filename = f\"inputs/{output_prefix}{chunk_number}.csv\"\n",
    "    chunk.to_csv(output_filename, index=False)\n",
    "    \n",
    "    chunk_number += 1"
   ]
  },
  {
   "cell_type": "code",
   "execution_count": null,
   "metadata": {},
   "outputs": [],
   "source": [
    "\"\"\"get list of inputs files to be processed\n",
    "\"\"\"\n",
    "\n",
    "directory = 'inputs/'  # Replace with the path to your directory\n",
    "\n",
    "# List all file names in the directory\n",
    "file_names = os.listdir(directory)\n",
    "\n",
    "\n",
    "\n",
    "# list comprehsions \n",
    "file_names = [directory + filename for filename in file_names]\n",
    "\n",
    "\n",
    "\n",
    "len(file_names)\n"
   ]
  },
  {
   "cell_type": "code",
   "execution_count": 5,
   "metadata": {},
   "outputs": [],
   "source": [
    "output_file= 'outputs/recipes.txt'"
   ]
  },
  {
   "cell_type": "code",
   "execution_count": 14,
   "metadata": {},
   "outputs": [
    {
     "name": "stdout",
     "output_type": "stream",
     "text": [
      "Processing : inputs/input_0.csv\n",
      "Processing : inputs/input_1.csv\n",
      "Processing : inputs/input_10.csv\n",
      "Processing : inputs/input_11.csv\n",
      "Processing : inputs/input_12.csv\n",
      "Processing : inputs/input_13.csv\n",
      "Processing : inputs/input_14.csv\n",
      "Processing : inputs/input_15.csv\n",
      "Processing : inputs/input_16.csv\n",
      "Processing : inputs/input_17.csv\n",
      "Processing : inputs/input_18.csv\n",
      "Processing : inputs/input_19.csv\n",
      "Processing : inputs/input_2.csv\n",
      "Processing : inputs/input_20.csv\n",
      "Processing : inputs/input_21.csv\n",
      "Processing : inputs/input_22.csv\n",
      "Processing : inputs/input_3.csv\n",
      "Processing : inputs/input_4.csv\n",
      "Processing : inputs/input_5.csv\n",
      "Processing : inputs/input_6.csv\n",
      "Processing : inputs/input_7.csv\n",
      "Processing : inputs/input_8.csv\n",
      "Processing : inputs/input_9.csv\n"
     ]
    }
   ],
   "source": [
    "\"\"\"process each csv file and format in a text description way suitable for trainig gpt neo model.\n",
    "\"\"\"\n",
    "for file_name in file_names:\n",
    "    print(f\"Processing : {file_name}\")\n",
    "    Recipes = pd.read_csv(file_name)\n",
    "    Recipes.drop(columns=['source','NER','site','link'], inplace=True)\n",
    "    columns= Recipes.columns\n",
    "    \n",
    "    with open(file_name.replace('input', 'output'), 'a') as f:\n",
    "        for row in Recipes.itertuples():\n",
    "            for column in columns:\n",
    "\n",
    "                if column =='ingredients':\n",
    "                    ingredients = getattr(row, column)[2:-2].replace('lasagne', 'lasagna').replace('1 qt.', '1 quart of').replace('qt.', 'quarts of').replace('1 c.', '1 cup of').replace('c.', 'cups of').replace('\", \"',', ').replace('lb.','pound').replace('lbs.','pounds').replace('oz.','ounces').replace('\\\\u00b0',' degrees Fahrenheit').replace('1 Tbsp.', '1 tablespoon of').replace('Tbsp.', 'tablespoons of').replace('1 tsp.', '1 teaspoon of').replace('tsp.', 'teaspoons of').replace('ingredients','Ingredients').replace('pkg.', 'package ').replace('\",\"',',').split('\",\"')\n",
    "                    f.write(f\"{column.upper()}: {','.join(ingredients)}; \")\n",
    "\n",
    "                elif column =='directions':\n",
    "                    #print(f\" {column}: \".join(instructions))\n",
    "                    instructions = getattr(row, column)[2:-2].replace('\\\\u00b0',' degrees Fahrenheit').replace('\", \"',', ').replace('.', ' ').split(' , ')\n",
    "                    f.write(f\"{column.upper()}: {'; '.join(instructions )}.\")\n",
    "\n",
    "                else:\n",
    "                    #print(f\"{'Recipe'}: {getattr(row, column)}, \" + f\"{'Ingredients'}: {','.join(ingredients)}, \" + f\"{'Directions'}: {', '.join(instructions)}.\")\n",
    "                    f.write(f\"RECIPE: {getattr(row, column)}; \")\n",
    "\n",
    "            f.write('\\n\\n')\n",
    "                "
   ]
  },
  {
   "cell_type": "code",
   "execution_count": 17,
   "metadata": {},
   "outputs": [],
   "source": [
    "output_files = [x.replace('input','output') for x in file_names]\n",
    "\n"
   ]
  },
  {
   "cell_type": "code",
   "execution_count": 24,
   "metadata": {},
   "outputs": [],
   "source": [
    "\n",
    "def check_token_size(file_data):\n",
    "    \"\"\"check for number of tokens\n",
    "\n",
    "    Args:\n",
    "        file_data (Stirng): file data read\n",
    "\n",
    "    Returns:\n",
    "        _type_: list of recipes\n",
    "    \"\"\"\n",
    "    list_of_recipes = file_data.split('\\n\\n')\n",
    "    return [x for x in list_of_recipes if len(x.split(' '))> 150 and len(x.split(' '))< 260]"
   ]
  },
  {
   "cell_type": "code",
   "execution_count": 25,
   "metadata": {},
   "outputs": [
    {
     "name": "stdout",
     "output_type": "stream",
     "text": [
      "file:outputs/output_0.csv has 3989 valid recipes.\n",
      "file:outputs/output_1.csv has 4004 valid recipes.\n",
      "file:outputs/output_10.csv has 33699 valid recipes.\n",
      "file:outputs/output_11.csv has 34122 valid recipes.\n",
      "file:outputs/output_12.csv has 37874 valid recipes.\n",
      "file:outputs/output_13.csv has 34383 valid recipes.\n",
      "file:outputs/output_14.csv has 37929 valid recipes.\n",
      "file:outputs/output_15.csv has 37519 valid recipes.\n",
      "file:outputs/output_16.csv has 33338 valid recipes.\n",
      "file:outputs/output_17.csv has 31448 valid recipes.\n",
      "file:outputs/output_18.csv has 31527 valid recipes.\n",
      "file:outputs/output_19.csv has 31613 valid recipes.\n",
      "file:outputs/output_2.csv has 3802 valid recipes.\n",
      "file:outputs/output_20.csv has 31491 valid recipes.\n",
      "file:outputs/output_21.csv has 31469 valid recipes.\n",
      "file:outputs/output_22.csv has 9694 valid recipes.\n",
      "file:outputs/output_3.csv has 3911 valid recipes.\n",
      "file:outputs/output_4.csv has 3841 valid recipes.\n",
      "file:outputs/output_5.csv has 3792 valid recipes.\n",
      "file:outputs/output_6.csv has 3680 valid recipes.\n",
      "file:outputs/output_7.csv has 3772 valid recipes.\n",
      "file:outputs/output_8.csv has 5057 valid recipes.\n",
      "file:outputs/output_9.csv has 36997 valid recipes.\n",
      "488951\n"
     ]
    }
   ],
   "source": [
    "\"\"\"filter recipes based on range of tokens within (120 and 260)\n",
    "\"\"\"\n",
    "filtered_list_of_recipes = []\n",
    "for output_file in output_files:\n",
    "    with open(output_file, 'r') as f:\n",
    "        data = f.read()\n",
    "        passed_recipes = check_token_size(data)\n",
    "        print(f\"file:{output_file} has {len(passed_recipes)} valid recipes.\")\n",
    "        filtered_list_of_recipes+=passed_recipes\n",
    "\n",
    "\n",
    "\n",
    "print(len(filtered_list_of_recipes))\n",
    "\n",
    "\n",
    "\n",
    "        \n",
    "        "
   ]
  },
  {
   "cell_type": "code",
   "execution_count": 27,
   "metadata": {},
   "outputs": [],
   "source": [
    "\"\"\"write all the ouputs into a single text file\n",
    "\"\"\"\n",
    "with open('outputs/valid_recipes.txt', 'w') as f:\n",
    "    for recipe in filtered_list_of_recipes[:100]:\n",
    "        f.write(recipe)\n",
    "        f.write('\\n\\n')"
   ]
  },
  {
   "cell_type": "code",
   "execution_count": null,
   "metadata": {},
   "outputs": [],
   "source": []
  }
 ],
 "metadata": {
  "kernelspec": {
   "display_name": "base",
   "language": "python",
   "name": "python3"
  },
  "language_info": {
   "codemirror_mode": {
    "name": "ipython",
    "version": 3
   },
   "file_extension": ".py",
   "mimetype": "text/x-python",
   "name": "python",
   "nbconvert_exporter": "python",
   "pygments_lexer": "ipython3",
   "version": "3.9.12"
  },
  "orig_nbformat": 4
 },
 "nbformat": 4,
 "nbformat_minor": 2
}
